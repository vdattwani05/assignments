{
 "cells": [
  {
   "cell_type": "markdown",
   "metadata": {},
   "source": [
    "# JBI010 - Assignment 1 (2023-2024)\n",
    "\n",
    "This Jupyter notebook contains the first assignment of the course. It aims at practicing the main skills learned during the first three weeks of the course. Don't forget to analyze each task first before diving into its implementation—that is, identify the main elements (e.g. inputs, output, instructions) of the problem to create a program that offers a concrete solution."
   ]
  },
  {
   "cell_type": "markdown",
   "metadata": {},
   "source": [
    "## Table of Contents\n",
    "<div class=\"toc\" style=\"margin-top: 1em;\">\n",
    "    <ul class=\"toc-item\">\n",
    "        <li>\n",
    "            <span><a href=\"#Introduction-to-this-template-notebook\" data-toc-modified-id=\"Introduction-to-this-template-notebook\">Introduction to this template notebook</a></span>\n",
    "        </li>\n",
    "        <li>\n",
    "            <span><a href=\"#A-Simplified-Splitser-(WieBetaaltWat)\" data-toc-modified-id=\"A_Simplified Splitser_(WieBetaaltWat)\">A Simplified Splitser (WieBetaaltWat)</a></span>\n",
    "        </li>\n",
    "        <li>\n",
    "            <span><a href=\"#Task-1:-Individual-Totals\" data-toc-modified-id=\"Task-1:-Individual-Totals\">Task 1: Individual Totals</a></span>\n",
    "        </li>\n",
    "        <li>\n",
    "            <span><a href=\"#Task-2:-Final-Balances\" data-toc-modified-id=\"Task-2:-Final-Balances\">Task 2: Final Balances</a></span>\n",
    "        </li>\n",
    "        <li>\n",
    "            <span><a href=\"#Task-3:-Final-Function-and-Data-Conversion\" data-toc-modified-id=\"Task-3:-Final-Function-and-Data-Conversion\">Task 3: Final Function and Data Conversion</a></span>\n",
    "            <ul>\n",
    "                <li>\n",
    "                    <span><a href=\"#3.1:-Final-Function\" data-toc-modified-id=\"3.1:-Final-Function\">3.1: Final Function</a></span>\n",
    "                </li>\n",
    "                <li>\n",
    "                    <span><a href=\"#3.2:-Data-Conversion\" data-toc-modified-id=\"3.2:-Data-Conversion\">3.2: Data Conversion</a></span>\n",
    "                </li>\n",
    "            </ul>\n",
    "        </li>\n",
    "        <li>\n",
    "            <span><a href=\"#Task-4:-Process-Text-File\" data-toc-modified-id=\"Task-4:-Process-Text-File\">Task 4: Process Text File</a></span>\n",
    "        </li>\n",
    "        <li>\n",
    "            <span><a href=\"#Task-5:-Process-User-Input\" data-toc-modified-id=\"Task-5:-Process-User-Input\">Task 5: Process User Input</a></span>\n",
    "        </li>\n",
    "        <li>\n",
    "            <span><a href=\"#Task-6:-Drawing-a-Bar-Chart-(Bonus)\" data-toc-modified-id=\"Task-6:-Drawing-a-Bar-Chart\">Task 6: Drawing a Bar Chart</a></span>\n",
    "        </li>\n",
    "    </ul>\n",
    "</div>"
   ]
  },
  {
   "cell_type": "markdown",
   "metadata": {},
   "source": [
    "\n",
    "# Introduction to this template notebook\n",
    "\n",
    "* This is a **personal** notebook. \n",
    "* Make sure you work in a **copy** of `...-template.ipynb`,\n",
    "    **renamed** to `...-yourIDnr.ipynb`,\n",
    "    where `yourIDnr` is your TU/e identification number.  \n",
    "* In case of two authors, include both id. numbers:\n",
    "    `...-firstIDnr-secondIDnr.ipynb`.\n",
    "\n",
    "<div class=\"alert alert-danger\" role=\"danger\">\n",
    "<h3>Integrity</h3>\n",
    "<ul>\n",
    "    <li>In this course you must act according to the rules of the TU/e code of scientific conduct.</li>\n",
    "    <li>All the exercises and the graded assignments are to be done within your programming homework group.</li>\n",
    "    <li>You must not copy from the Internet, your friends, books... If you represent other people's work as your own, then that constitutes fraud and will be reported to the Examination Committee.</li>\n",
    "    <li>Making your work available to others (complicity) also constitutes fraud.</li>\n",
    "</ul>\n",
    "</div>\n",
    "\n",
    "You are expected to work with Python 3 code in this notebook.\n",
    "\n",
    "The locations where you should write your solutions can be recognized by\n",
    "**marker lines**,\n",
    "which look like this:\n",
    "\n",
    ">`#//`\n",
    ">    `BEGIN_TODO [Label]` `Description` `(n points)`\n",
    ">\n",
    ">`#//`\n",
    ">    `END_TODO [Label]`\n",
    "\n",
    "<div class=\"alert alert-warning\" role=\"alert\">Do NOT modify or delete these marker lines.  Keep them as they are.<br/>\n",
    "<br/>\n",
    "NEVER write code that is needed for grading <i>outside</i> the marked blocks.\n",
    "It is invisible there.\n",
    "</div>\n",
    "\n",
    "Proceed in this notebook as follows:\n",
    "* **Personalize** the notebook (see below)\n",
    "* **Read** the text.\n",
    "* **Fill in** your solutions between `BEGIN_TODO` and `END_TODO` marker lines.\n",
    "* **Run** _all_ code cells (also the ones _without_ your code),\n",
    "    _in linear order_ from the first code cell.\n",
    "\n",
    "**Personalize your notebook**:\n",
    "1. Copy the following lines of code (`AUTHOR2_...` only when applicable):\n",
    "\n",
    "  ```python\n",
    "  AUTHOR_NAME = 'Your Full Name'\n",
    "  AUTHOR_ID_NR = '1234567'\n",
    "  AUTHOR_DATE = 'YYYY-MM-DD'  # when first modified, e.g. '2019-02-26'\n",
    "\n",
    "  AUTHOR2_NAME = 'Not Applicable'\n",
    "  AUTHOR2_ID_NR = 'Not Applicable'\n",
    "  ```\n",
    "\n",
    "1. Paste them between the marker lines in the next code cell.\n",
    "1. Fill in your _full name_, _identification number_, and the current _date_ as strings between quotes.\n",
    "1. When applicable, also copy and fill in the name and id.nr. for the second author.\n",
    "1. Run the code cell by putting the cursor there and typing **Control-Enter**.\n"
   ]
  },
  {
   "cell_type": "code",
   "execution_count": 1,
   "metadata": {},
   "outputs": [
    {
     "data": {
      "text/plain": [
       "('Rayan Mahmoud', '2034328', '2023-09-11')"
      ]
     },
     "execution_count": 1,
     "metadata": {},
     "output_type": "execute_result"
    }
   ],
   "source": [
    "#// BEGIN_TODO [Author] Name, Id.nr., Date, as strings (1 point)\n",
    "\n",
    "AUTHOR_NAME = 'Rayan Mahmoud'\n",
    "AUTHOR_ID_NR = '2034328'\n",
    "AUTHOR_DATE = '2023-09-11'  # when first modified, e.g. '2019-02-26'\n",
    "\n",
    "AUTHOR2_NAME = ''\n",
    "AUTHOR2_ID_NR = 'Not Applicable'\n",
    "#// END_TODO [Author]\n",
    "\n",
    "AUTHOR_NAME, AUTHOR_ID_NR, AUTHOR_DATE"
   ]
  },
  {
   "cell_type": "markdown",
   "metadata": {},
   "source": [
    "## Preliminaries\n",
    "\n",
    "Run the cell below. This cell will import additional modules providing additional Python functionality."
   ]
  },
  {
   "cell_type": "code",
   "execution_count": 2,
   "metadata": {
    "ExecuteTime": {
     "end_time": "2023-03-20T10:15:36.321166Z",
     "start_time": "2023-03-20T10:15:36.318330Z"
    }
   },
   "outputs": [],
   "source": [
    "from typing import List, Any, Callable, Dict\n",
    "import matplotlib.pyplot as plt\n",
    "import doctest"
   ]
  },
  {
   "cell_type": "markdown",
   "metadata": {},
   "source": [
    "## A Simplified Splitser (WieBetaaltWat)\n",
    "\n",
    "The main goal of this assignment consists of creating a simplified version of Splitser (WieBetaaltWat). \n",
    "\n",
    "Imagine we have a group of roommates: Tom, Vanessa, Chiara, Anna, and Natt. All of them are students on a budget and, just like in any other household, some of them buy more things for the house than others: this isn't fair, as the expenses should be split equally. To fix this, they can use Splitser. \n",
    "\n",
    "Splitser is an app that lets each individual in a group log purchases and share the costs with the rest of the group. While Splitser allows the expenses to be shared unequally, in our version, the object is to split the total cost _**equally**_ among all the roommates.\n",
    "\n",
    "Therefore, based on a set of purchases made by the roommates for the house, each roommate will either end up with a credit, a debit, or a €0 final balance.\n",
    "\n",
    "Below is an example of Splitser final balances based on purchases made for a household of 5 people. The \"Expenses\" column shows the total amount spent by each person, while the \"Balance\" shows the final balances. It is clear that, in the first example, not all purchases were split equally, so it cannot be recreated with our functions. However, in the second example, you can see how expenses are shared equally, demonstrating the desired outcome of our assignment.\n",
    "\n",
    "<img src=\"assets/splitser.jpg\" alt=\"Splitser\" width=\"600\"/>\n",
    "<br>\n",
    "<div style=\"text-align:left\">\n",
    "    <span style=\"font-size:0.9em; font-weight: bold;\">Fig. 1. Example of Splitser's final balances.</span>\n",
    "</div>\n",
    "<br>\n",
    "\n",
    "\n",
    "\n",
    "The text file `assets/simplified_splitser.txt` contains the splitser data for 10 different households.\n",
    "The file format is as follows:\n",
    "* Each line is corresponds to the data of one household\n",
    "    * It will first have a list of names\n",
    "    * Then a list of purchases\n",
    "\n",
    "For example, the data for the first two households in the file is as follows:\n",
    "```\n",
    "4 5.0 1 10.0 0 6.77 2 3.0 1\n",
    "3 4.0 1 3.5 2 10.80 2\n",
    "```\n",
    "\n",
    "The first household is made of 4 people, with each person having an ID in the range 0 to 3. The purchases can be interpreted as follows:\n",
    "- €5.0 were spent by person with ID 1\n",
    "- €10.0 were spent by person with ID 0\n",
    "- €6.77 were spent by person with ID 2\n",
    "- €3.0 were spent by person with ID 1\n",
    "\n",
    "The goal is to process this file and come up the final balances for each household.\n",
    "\n",
    "Note that not all data is formatted correctly.\n"
   ]
  },
  {
   "cell_type": "code",
   "execution_count": 4,
   "metadata": {},
   "outputs": [
    {
     "ename": "SyntaxError",
     "evalue": "invalid syntax (2667437184.py, line 3)",
     "output_type": "error",
     "traceback": [
      "\u001b[1;36m  Cell \u001b[1;32mIn[4], line 3\u001b[1;36m\u001b[0m\n\u001b[1;33m    Before calculating the final balances of the group members, we first create a function that calculates the total spent by each individual.\u001b[0m\n\u001b[1;37m           ^\u001b[0m\n\u001b[1;31mSyntaxError\u001b[0m\u001b[1;31m:\u001b[0m invalid syntax\n"
     ]
    }
   ],
   "source": [
    "## Task 1: Individual Totals\n",
    "\n",
    "Before calculating the final balances of the group members, we first create a function that calculates the total spent by each individual.\n",
    "\n",
    "This function will take two parameters:\n",
    "- the number of people in the household (an integer)\n",
    "- a list of purchases, e.g. `[5.0 1 10.0 0 6.77 2 3.0 1]` , a concatenation of `float` and `integer`, where each expense (positive `float` number) has to be followed by the ID of the person who made the purchase (`integer`), which needs to be in the right range (greater or equal to 0 and less than the number of people in the household)\n",
    "\n",
    "\n",
    "**These parameters need to be checked** in order to ensure they satisfy the requirements:\n",
    "- In case the parameters do **not** meet our conditions **an error message needs to be *printed***, describing the exact issue.\n",
    "\n",
    "**The function will *always* return a list.** If the input satisfies the requirements, the list needs to have a length equal to the number of people in the household: the float number at index `i` corresponds to the final balance of the person with ID `i`. Otherwise (if the input does not satisfie the requirements), an error will be printed and an **empty list** will be returned.\n",
    "\n",
    "**Notes**:\n",
    "* You can use the result of the boolean expression `type(var) == <type>` to check whether `var` is of type `<type>` (e.g., `type(var) == float`).\n",
    "* Do not forget to write the **type hints** and **docstring** of the function.\n",
    "* Include at least _four_ (4) `doctest` examples:\n",
    "  * 2 with input parameters satisfying the requirements\n",
    "  * 2 with input parameters that do not satisfy the requirements\n",
    "\n",
    "**Examples**:\n",
    "\n",
    "*Valid Input:*  \n",
    "```python\n",
    "get_individual_totals(get_individual_totals(2, [15.00, 0, 23.15, 0]))\n",
    "```\n",
    "\n",
    "*Output:*  \n",
    "\n",
    "```python\n",
    "[38.15, 0.0]\n",
    "```\n",
    "\n",
    "*Invalid Input:*  \n",
    "```python\n",
    "get_individual_totals(get_individual_totals(5, [5.0, 1, 1.2, 2.4, 6.77, 0, 3.0, 2]))\n",
    "```\n",
    "\n",
    "*Output:*  \n",
    "\n",
    "```python\n",
    "Invalid input: Wrong concatenation of costs and ids in parameter 'purchases'.\n",
    "[]\n",
    "```"
   ]
  },
  {
   "cell_type": "code",
   "execution_count": 26,
   "metadata": {},
   "outputs": [
    {
     "name": "stdout",
     "output_type": "stream",
     "text": [
      "[0, 1]\n",
      "[0, 16.0]\n"
     ]
    }
   ],
   "source": [
    "#// BEGIN_TODO [get_individual_totals] Get individual totals \n",
    "\n",
    "def get_individual_totals(number,purchases=[]):\n",
    "    total: list[int] = [n for n in range(number)]\n",
    "    for num in range(number):\n",
    "        for digit in range(len(purchases)):\n",
    "            if digit == num:\n",
    "                total[num] = total[num]+purchases[digit-1]\n",
    "        print(total)\n",
    "                \n",
    "        \n",
    "    \n",
    "    \n",
    "\n",
    "#// END_TODO [get_individual_totals]\n",
    "\n",
    "get_individual_totals(2, [15.00, 0, 23.15, 0])"
   ]
  },
  {
   "cell_type": "code",
   "execution_count": 27,
   "metadata": {},
   "outputs": [
    {
     "name": "stdout",
     "output_type": "stream",
     "text": [
      "Finding tests in get_individual_totals\n"
     ]
    }
   ],
   "source": [
    "doctest.run_docstring_examples(get_individual_totals, globals(), verbose=True, name='get_individual_totals')"
   ]
  },
  {
   "cell_type": "markdown",
   "metadata": {},
   "source": [
    "## Task 2: Final Balances\n",
    "\n",
    "We then create a second function that \n",
    "- takes the total spent by each individual: a list of floats, where the float number at index `i` corresponds to the total spent by the person with ID `i`\n",
    "- returns the final balance of each individual: a list of floats, where the float number at index `i` corresponds to the final balance of the person with ID `i`\n",
    "\n",
    "**Notes**:\n",
    "* The final balance of an individual can be calculated by doing `spent - avg`, where\n",
    "    * `spent` is the total amount spent by the individual\n",
    "    * `avg` is the total amount spent by the group, divided by the number of people in the group\n",
    "* Remember to deal with the possibily that the input list is empty\n",
    "* Do not forget to write the **type hints** and **docstring** of the function.\n",
    "* Include at least _two_ (2) `doctest` examples\n",
    "\n",
    "**Examples**:\n",
    "\n",
    "*Input:*  \n",
    "```python\n",
    "get_individual_final_balances([10.0, 20.0, 3.0])\n",
    "```\n",
    "\n",
    "*Output:*  \n",
    "\n",
    "```python\n",
    "[-1.0, 9.0, -8.0]\n",
    "```"
   ]
  },
  {
   "cell_type": "code",
   "execution_count": null,
   "metadata": {},
   "outputs": [],
   "source": [
    "#// BEGIN_TODO [get_individual_final_balances] Get individual final balances\n",
    "\n",
    "# ===== =====> Replace this line by your code. <===== ===== #\n",
    "\n",
    "#// END_TODO [get_individual_final_balances]\n",
    "\n",
    "get_individual_final_balances([12.0, 10.0, 14.0])"
   ]
  },
  {
   "cell_type": "code",
   "execution_count": null,
   "metadata": {},
   "outputs": [],
   "source": [
    "doctest.run_docstring_examples(get_individual_final_balances, globals(), verbose=True, name='get_individual_final_balances')"
   ]
  },
  {
   "cell_type": "markdown",
   "metadata": {},
   "source": [
    "## Task 3: Final Function and Data Conversion\n",
    "\n",
    "### 3.1: Final Function\n",
    "As can be seen, we can easily **use the output of `get_individual_totals` as the input of `get_individual_final_balances`**. \n",
    "\n",
    "This is very handy if we want to create a function that \n",
    "- takes the number of people and a list of purchases as input (same parameters as get_individual_totals)\n",
    "- directly **returns** the final balances as a list\n",
    "\n",
    "**Notes**:\n",
    "* use `get_individual_totals` and `get_individual_final_balances`\n",
    "* Do not forget to write the **type hints** and **docstring** of the function.\n",
    "* Include at least _two_ (2) `doctest` examples\n",
    "    * Two with a correct input\n",
    "    * Two with input not following the requirements\n",
    "        * Since we are calling `get_individual_totals`, this means that errors from that function will be printed\n",
    "\n",
    "**Examples**:\n",
    "\n",
    "*Input:*  \n",
    "```python\n",
    "simplified_splitser(5, [12.45, 1, 15.6, 4, 25.5, 2, 4.30, 1])\n",
    "```\n",
    "\n",
    "*Output:*  \n",
    "\n",
    "\n",
    "```python\n",
    "[-11.57, 5.18, 13.93, -11.57,  4.029999999999999]\n",
    "```"
   ]
  },
  {
   "cell_type": "code",
   "execution_count": null,
   "metadata": {},
   "outputs": [],
   "source": [
    "#// BEGIN_TODO [simplified_splitser] Create wrapper function for Simplified Splitser\n",
    "\n",
    "# ===== =====> Replace this line by your code. <===== ===== #\n",
    "\n",
    "#// END_TODO [simplified_splitser]\n",
    "\n",
    "simplified_splitser(5, [12.45, 1, 15.6, 4, 25.5, 2, 4.30, 1])"
   ]
  },
  {
   "cell_type": "code",
   "execution_count": null,
   "metadata": {},
   "outputs": [],
   "source": [
    "doctest.run_docstring_examples(simplified_splitser, globals(), verbose=True, name='simplified_splitser')"
   ]
  },
  {
   "cell_type": "markdown",
   "metadata": {},
   "source": [
    "### 3.2: Data Conversion\n",
    "We now create another function that instead of two parameters only takes 1 parameter: \n",
    "- a list of strings. \n",
    "\n",
    "This means that the number of people and their purchases will be merged into one list of strings and it is our job to figure out how to\n",
    "- transform the list into parameters that are fit for `simplified_splitser`\n",
    "- **print** the output of `simplified_splitser` as multiple lines with \n",
    "    - each line having format \"[name]: € [cost]\" and \n",
    "    - the cost having **2 decimal points** (.2f).\n",
    "\n",
    "**Notes:** \n",
    "\n",
    "- To check if a string `my_string` can be converted to an int, you can use `my_string.isdigit()`, this outputs a boolean. \n",
    "- To check if a string `my_string` can be converted to a float, you can use `my_string.replace('.', '', 1).isdigit()`, this outputs a boolean. \n",
    "- To convert a string `my_string` into a float, you can use the function `float(my_string)`\n",
    "* Do not forget to write the **type hints** and **docstring** of the function.\n",
    "* Include at least _three_ (3) `doctest` examples\n",
    "    * Two with an input that can be correctly converted\n",
    "    * One with input that will not following the requirements when converted\n",
    "        * This means that errors from functions that are called will be printed\n",
    "            \n",
    "**Examples:**\n",
    "\n",
    "*Input:* \n",
    "```python\n",
    "string_list_simplified_splitser(\n",
    "    [\"5\", \"12.45\", \"1\", \"15.6\", \"4\", \"25.5\", \"2\", \"4.30\", \"1\"]\n",
    ")\n",
    " ```\n",
    "\n",
    "*Output:* \n",
    "<pre>\n",
    "0: € -11.57 \n",
    "1: € 5.18 \n",
    "2: € 13.93 \n",
    "3: € -11.57 \n",
    "4: € 4.03 \n",
    "</pre>"
   ]
  },
  {
   "cell_type": "code",
   "execution_count": null,
   "metadata": {},
   "outputs": [],
   "source": [
    "#// BEGIN_TODO [string_list_simplified_splitser] Convert single string list into parameters for simplified_splitser\n",
    "\n",
    "# ===== =====> Replace this line by your code. <===== ===== #\n",
    "\n",
    "#// END_TODO [string_list_simplified_splitser]\n",
    "\n",
    "\n",
    "string_list_simplified_splitser(\n",
    "    [\"5\", \"12.45\", \"1\", \"15.6\", \"4\", \"25.5\", \"2\", \"4.30\", \"1\"]\n",
    ")\n"
   ]
  },
  {
   "cell_type": "code",
   "execution_count": null,
   "metadata": {},
   "outputs": [],
   "source": [
    "doctest.run_docstring_examples(string_list_simplified_splitser, globals(), verbose=True, name='string_list_simplified_splitser')"
   ]
  },
  {
   "cell_type": "markdown",
   "metadata": {},
   "source": [
    "## Task 4: Process Text File\n",
    "\n",
    "Since we have created the function `string_list_simplified_splitser`, we are now ready to load the file `assets/simplified_splitser.txt` containing all the expenses of the household.\n",
    "\n",
    "In order to do this, we now write a function `process_text_file` that \n",
    "- Opens the text file whose file name is given by `FILE_NAME`,\n",
    "- reads it line by line and strips any leading and trailing whitespace from all its lines,\n",
    "- transforms each line into a list of strings by splitting based on whitespaces\n",
    "    - calls `string_list_simplified_splitser` on each household data (line) (this function prints) and \n",
    "    - **prints** *one* blank line in between\n",
    "\n",
    "**Examples:**\n",
    "\n",
    "*Input:*\n",
    "<pre>\n",
    "1 0.43 0\n",
    "2 1.14 1 1.42 0\n",
    "</pre>\n",
    "\n",
    "*Output:* \n",
    "\n",
    "<pre>\n",
    "0: € 0.00\n",
    "\n",
    "0: € 0.14\n",
    "1: € -0.14\n",
    "</pre>"
   ]
  },
  {
   "cell_type": "code",
   "execution_count": null,
   "metadata": {},
   "outputs": [],
   "source": [
    "FILE_NAME = 'assets/simplified_splitser.txt'\n",
    "\n",
    "def process_text_file(file_name: str) -> None:\n",
    "#// BEGIN_TODO [process_file] Process household expenses in text file \n",
    "\n",
    "# ===== =====> Replace this line by your code. <===== ===== #\n",
    "\n",
    "#// END_TODO [process_file] \n",
    "\n",
    "process_text_file(FILE_NAME)\n"
   ]
  },
  {
   "cell_type": "markdown",
   "metadata": {},
   "source": [
    "## Task 5: Process User Input"
   ]
  },
  {
   "cell_type": "markdown",
   "metadata": {},
   "source": [
    "For this next task, we want to give the user the option to insert the data as a string input. The format is identical to each line of the text file in Task 2.\n",
    "\n",
    "Define the function `process_input_value` that repeatedly reads each string input. \n",
    "- The program processes the data and prints (without return a value) the result using the format **.2f (2 decimals)** for the final balances \n",
    "    - the printing format is the same as Task 3.2.\n",
    "- To implement this function consider the following requirements:\n",
    "    - use the previously defined `string_list_simplified_splitser`\n",
    "    - in case of an empty string, print `\"No data inputted.\"`\n",
    "\n",
    "**Notes**:\n",
    "* Do not forget to write the **type hints** and **docstring** of the function.\n",
    "* We will test your program with all possible input values.\n",
    "* The program is terminated if the user input is `q` or `quit`.\n",
    "* Include at least _five_ (5) `doctest` examples.\n",
    "\n",
    "**Examples**: (these examples include printed error messages, you might have defined them differently than us.)\n",
    "\n",
    "| Input | Output |\n",
    "| :- | :- |\n",
    "| 3 2.3 2 10.5 0 | 0: € 6.23 <br> 1: € -4.27 <br> 2: € -1.97 |\n",
    "| 2 230.7 0 100.0 1 74.5 1 0.90 0 58.9 1 | 0: € -0.90 <br> 1: € 0.90 |\n",
    "| 3 24.5 0 20.3 2 3.5 2 41.2 1 3.4 | Invalid input: The list of purchases does not have even length. |\n",
    "| 2 4.5 2 10.2 1 3.7 0 | Invalid input: the id at index 1 in purchases is not in range. |"
   ]
  },
  {
   "cell_type": "code",
   "execution_count": null,
   "metadata": {},
   "outputs": [],
   "source": [
    "#// BEGIN_TODO [process_input_value] Process household expenses input data ()\n",
    "\n",
    "# ===== =====> Replace this line by your code. <===== ===== #\n",
    "\n",
    "#// END_TODO [process_input_value]\n",
    "        \n",
    "prompt = \"Insert household names and expenses: \"\n",
    "while True:\n",
    "    inp = input(prompt)\n",
    "    if(inp.lower() == \"quit\" or inp.lower() == \"q\"):\n",
    "        break\n",
    "    process_input_value(inp)"
   ]
  },
  {
   "cell_type": "code",
   "execution_count": null,
   "metadata": {},
   "outputs": [],
   "source": [
    "doctest.run_docstring_examples(process_input_value, globals(), verbose=True, name='process_input_value')"
   ]
  },
  {
   "cell_type": "markdown",
   "metadata": {},
   "source": [
    "## Task 6: Drawing a Bar Chart (Bonus)"
   ]
  },
  {
   "cell_type": "code",
   "execution_count": null,
   "metadata": {},
   "outputs": [],
   "source": [
    "To visualize the final balances, we create a function to show them in a bar chart. The x-axis of the plot will show the ids of the group members. The y-axis of the plot will contain the corresponding balances.\n",
    "\n",
    "Luckily, it is quite easy to visualize (or draw) the data from the output of the function `simplified_splitser` as a bar chart.\n",
    "\n",
    "The negative balances should be colored in orange, while the positive balances in blue\n",
    " - this can be achieved by creating a list `colors` where each color is based on whether the value of a key is positive or negative\n",
    "   \n",
    "\n",
    "**Examples**:\n",
    "\n",
    "*Input:*\n",
    "\n",
    "```python\n",
    "data = simplified_splitser(5, [12.45, 1, 15.6, 4, 25.5, 2, 4.30, 1])\n",
    "bar_chart(data)\n",
    "```\n",
    "\n",
    "*Output:*  \n",
    "\n",
    "<div style=\"text-align:left\">\n",
    "    <img src=\"assets/barchart.png\" alt=\"Bar Chart\" width=\"500\"/>\n",
    "    <br>\n",
    "    <span style=\"font-size:0.9em; font-weight: bold;\">Fig. 2. Example of bar chart of final balances.</span>\n",
    "</div>\n",
    "<br>\n",
    "\n"
   ]
  },
  {
   "cell_type": "code",
   "execution_count": null,
   "metadata": {},
   "outputs": [],
   "source": [
    "#// BEGIN_TODO [bar_chart] Drawing a bar chart\n",
    "\n",
    "# ===== =====> Replace this line by your code. <===== ===== #\n",
    "\n",
    "#// END_TODO [bar_chart]\n",
    "\n",
    "data = simplified_splitser(5, [12.45, 1, 15.6, 4, 25.5, 2, 4.30, 1])\n",
    "bar_chart(data)"
   ]
  },
  {
   "cell_type": "markdown",
   "metadata": {},
   "source": [
    "---\n",
    "\n",
    "## (End of Notebook)\n",
    "\n",
    "&copy; 2023 - **TU/e** - Eindhoven University of Technology"
   ]
  }
 ],
 "metadata": {
  "anaconda-cloud": {},
  "kernelspec": {
   "display_name": "Python 3 (ipykernel)",
   "language": "python",
   "name": "python3"
  },
  "language_info": {
   "codemirror_mode": {
    "name": "ipython",
    "version": 3
   },
   "file_extension": ".py",
   "mimetype": "text/x-python",
   "name": "python",
   "nbconvert_exporter": "python",
   "pygments_lexer": "ipython3",
   "version": "3.11.4"
  },
  "toc": {
   "base_numbering": 1,
   "nav_menu": {},
   "number_sections": true,
   "sideBar": true,
   "skip_h1_title": false,
   "title_cell": "Table of Contents",
   "title_sidebar": "Contents",
   "toc_cell": false,
   "toc_position": {},
   "toc_section_display": true,
   "toc_window_display": false
  },
  "vscode": {
   "interpreter": {
    "hash": "26de051ba29f2982a8de78e945f0abaf191376122a1563185a90213a26c5da77"
   }
  }
 },
 "nbformat": 4,
 "nbformat_minor": 2
}
